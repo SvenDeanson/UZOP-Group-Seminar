{
 "cells": [
  {
   "cell_type": "markdown",
   "id": "922f9ca0-fda0-43f6-9be0-a63bd762e2bd",
   "metadata": {},
   "source": [
    "## Uvod u Znanost o podacima - Sara Sičić"
   ]
  },
  {
   "cell_type": "markdown",
   "id": "b222a9f7-7ca7-4c6f-b1bd-a255507faf75",
   "metadata": {},
   "source": [
    "------------------------------\n",
    "\n",
    "### Članak: Metabolism-associated molecular classiﬁcation of hepatocellular carcinoma\n",
    "\n",
    "Karcinom jetre jedan je od najkompliciranijih karcinoma zbog velike raznolikosti gena koji su ekspresirani u uzorcima karcinoma. To znatno otežava i analizu podataka i liječenje pacijenata. Cilj članka je podijeliti uzorke karcinoma jetre u tri grupe (klastera), od kojih svaka grupa ima određene karakteristike, npr. dobra prognoza ili loša prognoza, te na temelju 90 metaboličkih gena predvidjeti kojoj grupi karcinom pripada.\n",
    "\n",
    "------------------------------\n"
   ]
  },
  {
   "cell_type": "code",
   "execution_count": 1,
   "id": "2a823734",
   "metadata": {},
   "outputs": [],
   "source": [
    "import sys\n",
    "import pandas as pd\n",
    "import numpy as np\n",
    "from gtfparse import read_gtf\n",
    "import csv\n",
    "from tabulate import tabulate\n",
    "import os\n",
    "import gzip\n",
    "import xlrd\n",
    "import shutil\n",
    "from scipy import stats\n",
    "from os import listdir\n",
    "from os.path import isfile, join\n",
    "from combat.pycombat import pycombat\n",
    "\n",
    "import scipy as sp\n",
    "from lifelines import CoxPHFitter\n",
    "from sklearn.decomposition import PCA\n",
    "from sklearn.cluster import KMeans\n",
    "import matplotlib.pyplot as plt\n",
    "from sklearn.datasets import make_blobs\n",
    "\n",
    "from sklearn.feature_selection import SelectKBest\n",
    "from sklearn.feature_selection import chi2\n",
    "from sklearn.pipeline import make_pipeline\n",
    "from sklearn.preprocessing import StandardScaler\n",
    "from sklearn.preprocessing import MinMaxScaler\n",
    "from sklearn.svm import SVC\n",
    "from sklearn.metrics import classification_report\n",
    "from sklearn.metrics import confusion_matrix"
   ]
  },
  {
   "cell_type": "code",
   "execution_count": 2,
   "id": "f12a62c2",
   "metadata": {},
   "outputs": [],
   "source": [
    "#!{sys.executable} -m pip install gtfparse\n",
    "#!{sys.executable} -m pip install tabulate\n",
    "#!{sys.executable} -m pip install xlrd\n",
    "#!{sys.executable} -m pip install lifelines\n",
    "#!{sys.executable} -m pip install scipy\n",
    "#!{sys.executable} -m pip install combat --user\n",
    "#!{sys.executable} -m pip install scikit-survival\n",
    "#!{sys.executable} -m pip install xlrd\n",
    "#!{sys.executable} -m pip install kneed"
   ]
  },
  {
   "cell_type": "markdown",
   "id": "4914a082",
   "metadata": {},
   "source": [
    "### 0) Provjera podataka"
   ]
  },
  {
   "cell_type": "markdown",
   "id": "e05b25f1",
   "metadata": {},
   "source": [
    "***Prokomentirajte vrstu istraživanja provedenu u članku prema: svrsi, izvoru informacija, vremenu provedbe, načinu prikupljanja i vrsti korištenih podataka, stupnju manipulacije varijablama, dubini i vrsti zaključka - obrazložite svoj izbor za svaku pojedinu podjelu.***\n",
    "<br> <br>\n",
    "Vrsta istraživanja u ovom članku prema svrsi je primijenjeno istraživanje s obzirom da je fokusirano na stvaranje praktičnog znanstvenog znanja. Na temelju podataka pacijenata koji su imali karcinom jetre nastoje se karakterizirati molekularna svojstva karcinoma jetre razvojem sustava klasifikacije koji se temelji na profilu ekspresije metaboličkih gena.\n",
    "<br>\n",
    "Prema izvoru informacija ovo istraživanje je sekundarno istraživanje, s obzirom da su istraživači koristili podatke koje nisu sami sastavili.\n",
    "<br>\n",
    "Ovo istraživanje je sinkrono istraživanje po vremenu provedbe s obzirom da uzima podatke iz jedne točke u vremenu za svakog pacijenta.\n",
    "<br>\n",
    "Prema načinu prikupljanja korištenih podataka ovo istraživanje je dokumentarno istraživanje s obzirom da su gotovi podaci preuzeti sa istraživačkih web-stranica.\n",
    "<br>\n",
    "Istraživanje je kvantitativno prema vrsti korištenih podataka jer koristi mjerljive podatke o pacijentima kako bi se uz.\n",
    "<br>\n",
    "S obzirom na stupanj manipulacije varijablama, ovo istraživanje je promatračko zato što istraživači ne interveniraju izravno već analiziraju karcinom jetre u njegovom prirodnom kontekstu.\n",
    "<br>\n",
    "Prema dubini ovo je istraživačko istraživanje jer se temelji na proučavanju slabo proučavanih pojava i manje se oslanja na teoriju, a više na prikupljanje podataka. \n",
    "<br>\n",
    "Ovo istraživanje je prema vrsti zaključka hipotetičko-deduktivno s obzirom da se na početku istraživanja postavlja hipoteza o mogućnosti klasifikacije karcinoma jetre na temelju metaboličkih gena.\n",
    "<br>"
   ]
  },
  {
   "cell_type": "markdown",
   "id": "f2983a59",
   "metadata": {},
   "source": [
    "***Prokomentirajte metode kako su podaci za članak prikupljeni.***\n",
    "<br> <br>\n",
    "Prema metodama s kojima su podaci za ovaj članak prikupljeni, ovo je dokumentarno istraživanje zato što su to podaci prikupljeni s javno dostupnih web-stranica koje sadrže podatke namijenjene istraživačkoj zajednici."
   ]
  },
  {
   "cell_type": "markdown",
   "id": "ff950ab0",
   "metadata": {},
   "source": [
    "***Provjerite jesu li podaci prikupljeni i objavljeni prema pravilima istraživačke etike.***\n",
    "<br> <br>\n",
    "Na stranici TCGA pronašla sam da su oformili skupinu koja se bavi etikom, zakonom i politikom čiji je cilj pravedna i efektivna uporaba podataka genomnih podataka vezanih uz rak. Oni tvrde da pri pikupljanju svojih podataka nastoje osigurati zaštitu sudionika u projektu, uključujući i njihovu privatnost, siguran pristup TCGA podacima te pravovremen pristup podacima istraživačkoj zajednici. <br>ICGC ARGO, odakle sam preuzela ICGC podatke za istraživanje, ima etički okvir za partnerstva s industrijom čija su temeljna načela uzajamnost, transparentnost, odgovornost, akademska sloboda i društvena korist. ICGC ARGO također ima radnu skupinu za etiku, politiku i upravljanje AEGC čiji je cilj podržati ICGC ARGO s etičkim načelima i smjernicama koje osiguravaju odgovarajuću obradu podataka od pacijenata u skladu s etičkim, pravnim i socijalnim pitanjima."
   ]
  },
  {
   "cell_type": "markdown",
   "id": "4ad6e791-e99a-4a9d-b61e-21d44b909cee",
   "metadata": {},
   "source": [
    "### 1) Priprema podataka"
   ]
  },
  {
   "cell_type": "markdown",
   "id": "d2aa78a8",
   "metadata": {},
   "source": [
    "Podatke sam sve stavila u folder \"files\", unzippala sam ih i ostavila originalna imena, jedino sam tcga podatke extractala u folder \"tcga\"."
   ]
  },
  {
   "cell_type": "code",
   "execution_count": 3,
   "id": "2f670cf1",
   "metadata": {},
   "outputs": [],
   "source": [
    "path = 'C:/Users/Sara/Documents/My Fax/UZOP/files/'"
   ]
  },
  {
   "cell_type": "code",
   "execution_count": 4,
   "id": "e8b0c6b0-9f99-436d-8db5-f2c4999f79be",
   "metadata": {},
   "outputs": [],
   "source": [
    "#metabolicki geni\n",
    "df = pd.ExcelFile(path + '41586_2011_BFnature10350_MOESM321_ESM.xls').parse('All metabolic genes') #you could add index_col=0 if there's an index\n",
    "gene_set=set()\n",
    "for cell in df['Gene Symbol']:\n",
    "    gene_set.add(cell)\n",
    "    "
   ]
  },
  {
   "cell_type": "code",
   "execution_count": 5,
   "id": "79fae19b-e240-4cbf-9b78-d6c6dbf74f17",
   "metadata": {},
   "outputs": [
    {
     "name": "stderr",
     "output_type": "stream",
     "text": [
      "INFO:root:Extracted GTF attributes: ['gene_id', 'gene_type', 'gene_status', 'gene_name', 'level', 'havana_gene', 'transcript_id', 'transcript_type', 'transcript_status', 'transcript_name', 'tag', 'transcript_support_level', 'havana_transcript', 'exon_number', 'exon_id', 'ont', 'protein_id', 'ccdsid']\n"
     ]
    }
   ],
   "source": [
    "#anotacije\n",
    "annot = read_gtf(path + 'gencode.v22.annotation.gtf')\n",
    "gene_dict_id = dict()\n",
    "gene_dict_len = dict()\n",
    "\n",
    "gene_set_2 = set()\n",
    "for i in range (0, len(annot)):\n",
    "    if annot[\"gene_name\"][i].upper() in gene_set:\n",
    "        if ((annot[\"end\"][i]-annot[\"start\"][i])!=0):\n",
    "            gene_set_2.add(annot[\"gene_name\"][i])\n",
    "            gene_dict_id[annot[\"gene_id\"][i]]=annot[\"gene_name\"][i]\n",
    "            gene_dict_len[annot[\"gene_name\"][i]]=annot[\"end\"][i]-annot[\"start\"][i]\n",
    "            "
   ]
  },
  {
   "cell_type": "code",
   "execution_count": 6,
   "id": "08871dcd-8f7f-43de-9a90-c9fef6b2c118",
   "metadata": {},
   "outputs": [],
   "source": [
    "#icgc ucitavanje\n",
    "file_icgc = open(path + 'exp_seq.tsv')\n",
    "icgc_df = pd.read_csv(file_icgc, delimiter=\"\\t\")\n",
    "icgc_df = icgc_df.loc[:, ['icgc_donor_id','gene_id','raw_read_count']]\n",
    "icgc_df = icgc_df[icgc_df['gene_id'].isin(gene_set_2)]"
   ]
  },
  {
   "cell_type": "code",
   "execution_count": 7,
   "id": "c88f8281",
   "metadata": {},
   "outputs": [
    {
     "name": "stdout",
     "output_type": "stream",
     "text": [
      "        donor_id  gene_id  raw_read_count\n",
      "0        DO50855    SGPP1        3.874531\n",
      "1        DO50855  SLC37A2        0.285830\n",
      "2        DO50855  SLC6A11        2.827911\n",
      "3        DO50855     DERA       45.659909\n",
      "4        DO50855  PLA2G4E        0.112523\n",
      "...          ...      ...             ...\n",
      "1070522  DO23508    COX8C        0.003774\n",
      "1070523  DO23508    KCNC3        0.159332\n",
      "1070524  DO23508   SLC3A1        2.772726\n",
      "1070525  DO23508    ACAD8        2.993089\n",
      "1070526  DO23508     PFKP        3.124463\n",
      "\n",
      "[1070527 rows x 3 columns]\n"
     ]
    }
   ],
   "source": [
    "#icgc tpm\n",
    "icgc_count = dict()\n",
    "icgc_data = []\n",
    "\n",
    "for index, row in icgc_df.iterrows():\n",
    "    rrc0 = float(row['raw_read_count'])\n",
    "    genelen = float(gene_dict_len[row['gene_id']])\n",
    "    rrc = rrc0/genelen\n",
    "    icgc_data.append([row['icgc_donor_id'], row['gene_id'], rrc])\n",
    "    if row['icgc_donor_id'] not in icgc_count:\n",
    "        icgc_count[row['icgc_donor_id']]=rrc\n",
    "    else:\n",
    "        icgc_count[row['icgc_donor_id']]+=rrc         \n",
    "        \n",
    "for row in icgc_data:\n",
    "    row[2] = row[2] / icgc_count[row[0]] * 1000000\n",
    "    \n",
    "icgc_df = pd.DataFrame(icgc_data, columns=['donor_id','gene_id','raw_read_count'])\n",
    "print(icgc_df)"
   ]
  },
  {
   "cell_type": "code",
   "execution_count": 8,
   "id": "bf367543",
   "metadata": {
    "scrolled": true
   },
   "outputs": [],
   "source": [
    "#tcga ucitavanje\n",
    "dir_tcga = os.listdir(path + 'tcga')\n",
    "n=0\n",
    "data = []\n",
    "for dir in dir_tcga:\n",
    "    n += 1\n",
    "    dirName = path + 'tcga/'+dir\n",
    "    for f in listdir(dirName):\n",
    "        if (f.endswith('gz')):\n",
    "            file = dirName+'/'+ f\n",
    "            patientName = f[0:len(f)-16]\n",
    "            tcgaFile = pd.read_csv(file, compression='gzip', sep='\\t')\n",
    "            for index, row in tcgaFile.iterrows():\n",
    "                geneid = tcgaFile.iloc[index,0]\n",
    "                if geneid in gene_dict_id:\n",
    "                    if gene_dict_id[geneid] in gene_set_2:\n",
    "                        data.append([patientName, gene_dict_id[geneid], tcgaFile.iloc[index,1] ])\n",
    "    if (n==5):\n",
    "        break\n",
    "        \n",
    "tcga_df = pd.DataFrame(data, columns=['donor_id','gene_id','raw_read_count'])"
   ]
  },
  {
   "cell_type": "markdown",
   "id": "650be2f9",
   "metadata": {},
   "source": [
    "TCGA mi se sporo učitava i zauzima puno memorije pa sam učitala samo prvih 5 pacijenata."
   ]
  },
  {
   "cell_type": "code",
   "execution_count": 9,
   "id": "50b1a26c-59f1-436f-97ba-8fc4bde581f2",
   "metadata": {},
   "outputs": [
    {
     "name": "stdout",
     "output_type": "stream",
     "text": [
      "                                   donor_id  gene_id  raw_read_count\n",
      "0      358f2893-02b2-4d36-9c76-b818c28b6027     DPM1      211.884187\n",
      "1      358f2893-02b2-4d36-9c76-b818c28b6027    FUCA2       26.302756\n",
      "2      358f2893-02b2-4d36-9c76-b818c28b6027     GCLC      983.494482\n",
      "3      358f2893-02b2-4d36-9c76-b818c28b6027    ENPP4        0.153667\n",
      "4      358f2893-02b2-4d36-9c76-b818c28b6027     CFTR        1.364078\n",
      "...                                     ...      ...             ...\n",
      "13260  fe506b98-0733-43c9-943a-be9b12f1c2fb    DHRSX        0.000000\n",
      "13261  fe506b98-0733-43c9-943a-be9b12f1c2fb    ASMTL        0.000000\n",
      "13262  fe506b98-0733-43c9-943a-be9b12f1c2fb  SLC25A6        0.000000\n",
      "13263  fe506b98-0733-43c9-943a-be9b12f1c2fb   PLCXD1        0.000000\n",
      "13264  fe506b98-0733-43c9-943a-be9b12f1c2fb     ASMT        0.000000\n",
      "\n",
      "[13265 rows x 3 columns]\n"
     ]
    }
   ],
   "source": [
    "#tcga tpm\n",
    "tcga_count = dict()\n",
    "tcga_data = []\n",
    "\n",
    "for index, row in tcga_df.iterrows():\n",
    "    rrc0 = float(row['raw_read_count'])\n",
    "    genelen = float(gene_dict_len[row['gene_id']])\n",
    "    rrc = rrc0/genelen\n",
    "    tcga_data.append([row['donor_id'], row['gene_id'], rrc])\n",
    "    if row['donor_id'] not in tcga_count:\n",
    "        tcga_count[row['donor_id']]=rrc\n",
    "    else:\n",
    "        tcga_count[row['donor_id']]+=rrc         \n",
    "for row in tcga_data:\n",
    "    row[2] = row[2] / tcga_count[row[0]] * 1000000\n",
    "        \n",
    "tcga_df = pd.DataFrame(tcga_data, columns=['donor_id','gene_id','raw_read_count'])\n",
    "print(tcga_df)"
   ]
  },
  {
   "cell_type": "code",
   "execution_count": 10,
   "id": "bc51db25",
   "metadata": {},
   "outputs": [
    {
     "name": "stdout",
     "output_type": "stream",
     "text": [
      "                                     donor_id  gene_id  raw_read_count\n",
      "0                                     DO50855    SGPP1        3.874531\n",
      "1                                     DO50855  SLC37A2        0.285830\n",
      "2                                     DO50855  SLC6A11        2.827911\n",
      "3                                     DO50855     DERA       45.659909\n",
      "4                                     DO50855  PLA2G4E        0.112523\n",
      "...                                       ...      ...             ...\n",
      "1083787  fe506b98-0733-43c9-943a-be9b12f1c2fb    DHRSX        0.000000\n",
      "1083788  fe506b98-0733-43c9-943a-be9b12f1c2fb    ASMTL        0.000000\n",
      "1083789  fe506b98-0733-43c9-943a-be9b12f1c2fb  SLC25A6        0.000000\n",
      "1083790  fe506b98-0733-43c9-943a-be9b12f1c2fb   PLCXD1        0.000000\n",
      "1083791  fe506b98-0733-43c9-943a-be9b12f1c2fb     ASMT        0.000000\n",
      "\n",
      "[1083792 rows x 3 columns]\n"
     ]
    }
   ],
   "source": [
    "icgc_df_new = icgc_df.rename(columns={\"icgc_donor_id\": \"donor_id\"})\n",
    "result_df = pd.concat([icgc_df_new, tcga_df], axis=0)\n",
    "result_df.fillna(0)\n",
    "result_df = result_df.reset_index().drop(columns=['index'])\n",
    "print(result_df)"
   ]
  },
  {
   "cell_type": "code",
   "execution_count": 11,
   "id": "5acc6cc5-78ed-49af-afae-c409a3f7767d",
   "metadata": {},
   "outputs": [
    {
     "name": "stderr",
     "output_type": "stream",
     "text": [
      "INFO:numexpr.utils:NumExpr defaulting to 8 threads.\n"
     ]
    }
   ],
   "source": [
    "pivoted_df = result_df.pivot_table(index=[\"gene_id\"], columns=[\"donor_id\"], values=['raw_read_count']).fillna(0)\n",
    "pivoted_df = pivoted_df['raw_read_count']"
   ]
  },
  {
   "cell_type": "code",
   "execution_count": 12,
   "id": "a147d20f-49f2-487c-bb2a-75279ada90cd",
   "metadata": {},
   "outputs": [],
   "source": [
    "icgc_pivot = icgc_df_new.reset_index().drop(columns=['index']).pivot_table(index=[\"gene_id\"], columns=[\"donor_id\"], values=['raw_read_count'])['raw_read_count']\n",
    "tcga_pivot = tcga_df.reset_index().drop(columns=['index']).pivot_table(index=[\"gene_id\"], columns=[\"donor_id\"], values=['raw_read_count'])['raw_read_count']"
   ]
  },
  {
   "cell_type": "code",
   "execution_count": 13,
   "id": "d68b6b83-df91-4d1e-b0fd-3c83c6a1c482",
   "metadata": {},
   "outputs": [
    {
     "name": "stdout",
     "output_type": "stream",
     "text": [
      "Found 2 batches.\n",
      "Adjusting for 0 covariate(s) or covariate level(s).\n",
      "Standardizing Data across genes.\n",
      "Fitting L/S model and finding priors.\n",
      "Finding parametric adjustments.\n",
      "Adjusting the Data\n"
     ]
    },
    {
     "name": "stderr",
     "output_type": "stream",
     "text": [
      "/Users/svenalmer/opt/anaconda3/lib/python3.8/site-packages/combat/pycombat.py:160: RuntimeWarning: divide by zero encountered in true_divide\n",
      "  np.absolute(d_new-d_old)/d_old))  # maximum difference between new and old estimate\n"
     ]
    }
   ],
   "source": [
    "#pycombat\n",
    "batch = []\n",
    "datasets = [icgc_pivot, tcga_pivot]\n",
    "\n",
    "for j in range(len(datasets)):\n",
    "    batch.extend([j for _ in range(len(datasets[j].columns))])\n",
    "\n",
    "df_corrected = pycombat(pivoted_df,batch)"
   ]
  },
  {
   "cell_type": "markdown",
   "id": "93e59ecd",
   "metadata": {},
   "source": [
    "PyComBat mi se povremeno pokrene bez greške, a povremeno sa ZeroDivision Error."
   ]
  },
  {
   "cell_type": "code",
   "execution_count": 14,
   "id": "099d26ce",
   "metadata": {},
   "outputs": [],
   "source": [
    "pivoted_df = df_corrected"
   ]
  },
  {
   "cell_type": "markdown",
   "id": "d0d1b058-80c6-4c8f-b493-c7129769d314",
   "metadata": {},
   "source": [
    "### 2) Odabir bitnih gena i klasteriranje"
   ]
  },
  {
   "cell_type": "code",
   "execution_count": 15,
   "id": "c08be0ea-d291-468b-b016-ba1fb96c06a2",
   "metadata": {},
   "outputs": [],
   "source": [
    "#MAD\n",
    "#>0.5\n",
    "n = 0\n",
    "new_genes = set()\n",
    "counts_mad = dict()\n",
    "for index, row in pivoted_df.iterrows():\n",
    "    for r in row:\n",
    "        if index not in counts_mad:\n",
    "            counts_mad[index] = [r]\n",
    "        else:\n",
    "            counts_mad[index].append(r)\n",
    "for key in counts_mad:\n",
    "    if (sp.stats.median_abs_deviation(counts_mad[key])>0.5):\n",
    "        new_genes.add(key)\n",
    "mad_df = pivoted_df.loc[pivoted_df.index.isin(new_genes)]\n",
    "mad_t_df = mad_df.T"
   ]
  },
  {
   "cell_type": "code",
   "execution_count": 16,
   "id": "34f173d0-7176-4ae1-98da-8e533b56993b",
   "metadata": {},
   "outputs": [],
   "source": [
    "#uctavanje survival podataka\n",
    "dfile1 = open(path + 'donor.tsv')\n",
    "icgc_donor = pd.read_csv(dfile1, delimiter=\"\\t\")\n",
    "dfile2 = open(path + 'clinical.tsv')\n",
    "tcga_donor = pd.read_csv(dfile2, delimiter=\"\\t\")\n",
    "\n",
    "survivalDict = dict()\n",
    "icgc_donor_df = icgc_donor.loc[:,['icgc_donor_id', 'donor_vital_status', 'donor_survival_time']];\n",
    "icgc_donor_df.rename(columns={'icgc_donor_id':'donor_id', 'donor_vital_status':'status', 'donor_survival_time':'time'}, inplace=True)\n",
    "tcga_donor_df = tcga_donor.loc[:,['case_id', 'vital_status', 'days_to_death']];\n",
    "tcga_donor_df.rename(columns={'case_id':'donor_id', 'vital_status':'status', 'days_to_death':'time'}, inplace=True)\n",
    "tcga_donor_df['time'] = np.where((tcga_donor_df.time == '\\'--'),'100000',tcga_donor_df.time)"
   ]
  },
  {
   "cell_type": "code",
   "execution_count": 17,
   "id": "8a070464",
   "metadata": {},
   "outputs": [
    {
     "name": "stdout",
     "output_type": "stream",
     "text": [
      "                 A1CF       AACS        AADAC      AADAT      AASDH  AASDHPPT  \\\n",
      "donor_id                                                                        \n",
      "DO227643   666.443040   6.025463  3172.896046  47.862779   5.952881  1.333268   \n",
      "DO227801   696.116587   8.332583  3293.125462  74.780821   7.373974  1.827766   \n",
      "DO23508    552.925658  31.752660  2414.405278  67.041188   6.031856  1.375836   \n",
      "DO23509    827.215354  16.266381  2496.671611  72.443678   8.519673  2.730933   \n",
      "DO23510    957.975042  17.367144  3886.712375  74.716572   8.968047  3.255191   \n",
      "...               ...        ...          ...        ...        ...       ...   \n",
      "DO50845   1657.862191  99.985696  5269.630453  62.813509  24.946456  4.731455   \n",
      "DO50850   1236.919901  19.590948  3416.241758  91.807995  15.985309  4.171051   \n",
      "DO50855    803.014330  53.785782  4205.318031  95.357970  10.972342  3.757484   \n",
      "DO50857   1323.961958  25.329886  3991.268015  31.109102  24.382298  3.971920   \n",
      "DO50859   1151.108664  15.001967  1793.851940  30.888679   3.965745  1.621901   \n",
      "\n",
      "                AASS         ABAT       ABCA1      ABCA10  ...       VDAC1  \\\n",
      "donor_id                                                   ...               \n",
      "DO227643  101.588426  1768.017392   51.527003   98.741799  ...   44.331052   \n",
      "DO227801   52.664107  1942.701892   64.043419  117.882589  ...  109.159869   \n",
      "DO23508    45.970512  1311.123087   49.722251   59.725225  ...   64.221203   \n",
      "DO23509   446.052620  1870.045859  208.094856   22.879699  ...   61.756042   \n",
      "DO23510    84.778810  2164.733230   80.889246   74.685207  ...   84.347638   \n",
      "...              ...          ...         ...         ...  ...         ...   \n",
      "DO50845   414.965043  1761.480249  297.255169  124.952383  ...  165.633207   \n",
      "DO50850    45.699331  3717.119186  260.234184  144.450015  ...  136.365029   \n",
      "DO50855   142.725632  3238.337296  189.580666  209.999785  ...  105.218055   \n",
      "DO50857   500.157872  2936.205441   97.930330  229.330967  ...  139.177581   \n",
      "DO50859   216.184498  1546.793261   51.212306  108.124373  ...   62.084673   \n",
      "\n",
      "              VDAC2        VDAC3      VKORC1         XDH       XYLB     XYLT1  \\\n",
      "donor_id                                                                        \n",
      "DO227643  20.206815   196.545020  483.486846  343.789076  19.389849  0.493369   \n",
      "DO227801  26.513496   187.022013  344.477419  261.843047  35.980883  1.133909   \n",
      "DO23508   46.625667   241.039424  199.169252  163.044817  17.218839  0.368666   \n",
      "DO23509   28.126370   286.702538  223.045583  131.873391  36.490788  1.004215   \n",
      "DO23510   30.870641   182.919802  348.504508  279.230942  55.991594  1.413297   \n",
      "...             ...          ...         ...         ...        ...       ...   \n",
      "DO50845   46.266641  1051.895789  271.555483   98.562418  41.570972  0.841320   \n",
      "DO50850   35.848216   136.543790  460.979648  358.428102  53.128573  3.598686   \n",
      "DO50855   40.749782   176.015795  505.164835  190.532464  33.422146  2.892415   \n",
      "DO50857   61.300970   534.845248  261.501297  238.452221  70.310113  8.633749   \n",
      "DO50859   22.269930   365.059047  423.814699  223.463930  28.322643 -0.394100   \n",
      "\n",
      "              ZADH2    status  time  \n",
      "donor_id                             \n",
      "DO227643  19.288489     alive  1260  \n",
      "DO227801  18.638685     alive   660  \n",
      "DO23508   25.414316     alive   390  \n",
      "DO23509   30.638563  deceased   780  \n",
      "DO23510   24.358063     alive   870  \n",
      "...             ...       ...   ...  \n",
      "DO50845   50.048566     alive   210  \n",
      "DO50850   55.067932     alive   720  \n",
      "DO50855   40.863940     alive   570  \n",
      "DO50857   39.913051     alive   210  \n",
      "DO50859   14.169235     alive   180  \n",
      "\n",
      "[232 rows x 1877 columns]\n"
     ]
    }
   ],
   "source": [
    "donor_df = pd.concat([icgc_donor_df,tcga_donor_df], axis=0)\n",
    "donor_df = donor_df.set_index('donor_id')\n",
    "mad_t_df = mad_t_df.reset_index().set_index('donor_id')\n",
    "\n",
    "drop_mad_df = mad_t_df[mad_t_df.index.isin(donor_df.index)]\n",
    "drop_donor_df = donor_df[donor_df.index.isin(mad_t_df.index)]\n",
    "drop_mad_df = drop_mad_df[drop_mad_df.index.isin(drop_donor_df.index)]\n",
    "drop_mad_df = drop_mad_df[~drop_mad_df.index.duplicated(keep='first')]\n",
    "donor_df = pd.concat([drop_mad_df, drop_donor_df], axis=1, join='inner')\n",
    "\n",
    "print(donor_df)"
   ]
  },
  {
   "cell_type": "code",
   "execution_count": 18,
   "id": "8cfbe53b-0caa-476a-874a-c8bb22b4fd2d",
   "metadata": {},
   "outputs": [
    {
     "data": {
      "text/plain": [
       "<lifelines.CoxPHFitter: fitted with 232 total observations, 189 right-censored observations>"
      ]
     },
     "execution_count": 18,
     "metadata": {},
     "output_type": "execute_result"
    }
   ],
   "source": [
    "#COX analiza\n",
    "coxphf = CoxPHFitter(penalizer=0.1, alpha=0.05)\n",
    "cpf_donor_df = donor_df.reset_index().drop(['donor_id'], axis=1)\n",
    "cpf_donor_df[\"status\"] = cpf_donor_df[\"status\"].map(lambda x: 0 if x == 'alive' else 1)\n",
    "coxphf.fit(cpf_donor_df, event_col='status', duration_col='time')"
   ]
  },
  {
   "cell_type": "markdown",
   "id": "7b857ec7",
   "metadata": {},
   "source": [
    "Pri COX analizi stavila sam penalizer na vrijednost 0.9 zbog kolinearnosti u matrici koju mu predajem."
   ]
  },
  {
   "cell_type": "code",
   "execution_count": 19,
   "id": "5efb08f5-a78e-447d-8bb7-5bb42771d289",
   "metadata": {},
   "outputs": [
    {
     "name": "stdout",
     "output_type": "stream",
     "text": [
      "1875\n"
     ]
    }
   ],
   "source": [
    "cox_genes = set()\n",
    "for i in coxphf.params_.index:\n",
    "    cox_genes.add(i)\n",
    "print(len(cox_genes))"
   ]
  },
  {
   "cell_type": "code",
   "execution_count": 20,
   "id": "046c73df",
   "metadata": {},
   "outputs": [],
   "source": [
    "cox_df = mad_df[mad_df.index.isin(cox_genes)]"
   ]
  },
  {
   "cell_type": "code",
   "execution_count": 21,
   "id": "6f9c3dfc",
   "metadata": {},
   "outputs": [
    {
     "name": "stdout",
     "output_type": "stream",
     "text": [
      "(237, 1875)\n"
     ]
    }
   ],
   "source": [
    "#KMeans\n",
    "km_df = cox_df.T #koristim mad_df koji je bez survival podataka, zato ne koristimo mad_t_df - tom su dodani survival podaci\n",
    "print(km_df.shape)\n",
    "model = KMeans(\n",
    "    init=\"k-means++\",\n",
    "    n_clusters=3,\n",
    "    n_init=4,\n",
    "    max_iter=300,\n",
    "    )"
   ]
  },
  {
   "cell_type": "code",
   "execution_count": 22,
   "id": "b8ea66ef-e442-4190-b887-50eecb13e3a7",
   "metadata": {},
   "outputs": [
    {
     "name": "stdout",
     "output_type": "stream",
     "text": [
      "[0 0 0 0 1 0 0 0 0 1 1 0 1 1 0 1 0 0 2 1 1 0 1 1 0 0 2 1 1 0 1 0 1 0 1 1 2\n",
      " 1 0 1 1 0 1 2 1 2 1 0 0 0 1 0 0 1 0 1 1 1 1 1 1 1 0 0 0 0 0 1 0 1 0 0 0 0\n",
      " 0 1 0 0 1 0 2 2 0 0 2 0 0 0 0 1 0 0 0 0 1 0 0 2 2 1 0 0 0 1 0 0 1 0 2 2 0\n",
      " 0 1 1 1 1 0 0 0 0 2 0 1 0 0 0 2 1 0 1 1 1 1 1 0 0 0 0 0 0 1 2 0 0 0 0 0 1\n",
      " 1 2 0 0 2 0 0 0 0 1 1 0 0 0 1 0 1 1 0 1 1 1 0 1 0 1 0 0 0 1 0 1 0 1 1 0 1\n",
      " 0 1 0 1 0 0 0 0 1 0 1 2 0 0 0 0 1 0 0 0 0 1 0 0 1 0 0 1 0 0 2 1 2 2 1 1 1\n",
      " 2 0 0 0 2 0 2 0 2 2 0 1 1 0 0]\n"
     ]
    },
    {
     "data": {
      "image/png": "[encoded data removed]",
      "text/plain": [
       "<Figure size 720x720 with 1 Axes>"
      ]
     },
     "metadata": {
      "needs_background": "light"
     },
     "output_type": "display_data"
    }
   ],
   "source": [
    "pca = PCA(n_components = 2)\n",
    "data = pca.fit_transform(km_df)\n",
    "label = model.fit_predict(km_df)\n",
    "print(label)\n",
    "plt.figure(figsize=(10,10))\n",
    "uniq = np.unique(label)\n",
    "for i in uniq:\n",
    "   plt.scatter(data[label == i , 0] , data[label == i , 1] , label = i)"
   ]
  },
  {
   "cell_type": "markdown",
   "id": "f73accdd-12e8-4f3f-99be-afe8718a693e",
   "metadata": {},
   "source": [
    "#### K-medians\n",
    "Clustering ćemo napraviti i algoritmom K-medians te usporediti rezultate.\n",
    "\n",
    "S obzirom da ne postoji gotova implementacija K-medians algoritma, izradit ćemo svoju."
   ]
  },
  {
   "cell_type": "code",
   "execution_count": 23,
   "id": "5621f7bc-73fb-4e13-909d-3e125115311d",
   "metadata": {},
   "outputs": [],
   "source": [
    "from tqdm import tqdm\n",
    "\n",
    "class KMedians:\n",
    "    \n",
    "    def __init__(self, n_clusters, max_iter):\n",
    "        self.n_clusters = n_clusters\n",
    "        self.max_iter = max_iter\n",
    "        \n",
    "    def manhattan_distance(self, x1, x2):\n",
    "        diff = abs(x1 - x2)\n",
    "        return sum(diff)\n",
    "    \n",
    "    def assign_to_clusters(self, X, centroids):\n",
    "        c = []\n",
    "        for x in X:\n",
    "            idx = -1\n",
    "            min_dist = np.inf\n",
    "            for i,j in enumerate(centroids):\n",
    "                dist = self.manhattan_distance(x, j)\n",
    "                if dist < min_dist:\n",
    "                    idx = i\n",
    "                    min_dist = dist\n",
    "            c.append(idx)\n",
    "        return c\n",
    "    \n",
    "    def shift_centroids(self, X, c):\n",
    "        clusters = {}\n",
    "        for i in set(c):\n",
    "            clusters[i] = []\n",
    "           \n",
    "        for x,clster in zip(X, c):\n",
    "            clusters[clster].append(x)\n",
    "        \n",
    "        medians = []\n",
    "        for x in clusters.values():\n",
    "            temp =  x[0]\n",
    "            for i in x[1:]:\n",
    "                temp = np.c_[temp,i]\n",
    "            if temp.ndim == 1:\n",
    "                temp = temp.reshape(-1,len(temp))\n",
    "            temp = np.median(temp, axis=1)   \n",
    "            medians.append(temp)\n",
    "        \n",
    "        return medians\n",
    "    \n",
    "    def calculate_cost(self, X, c, centroids):\n",
    "        cost = sum([self.manhattan_distance(i, centroids[c[idx]]) for idx, i in enumerate(X)])\n",
    "        cost /= float(X.shape[0])\n",
    "        return cost\n",
    "    \n",
    "    def fit(self, X):\n",
    "        best = np.inf\n",
    "        self.centroids = None\n",
    "        \n",
    "        for itr in tqdm(range(self.max_iter)):\n",
    "            centroid_idx = np.random.choice(range(X.shape[0]), size=self.n_clusters, replace=False)\n",
    "            centroids = X[centroid_idx]\n",
    "            \n",
    "            # Calculate index of closest cluster centroid for each instance.\n",
    "            c = self.assign_to_clusters(X, centroids)\n",
    "        \n",
    "            # Shift the cluster centroids.\n",
    "            centroids = self.shift_centroids(X, c)\n",
    "            \n",
    "            # Calculate the value of the cost function.\n",
    "            cost = self.calculate_cost(X, c, centroids)\n",
    "            \n",
    "            # Store best cluster centroids.\n",
    "            if cost < best:\n",
    "                best = cost\n",
    "                self.centroids = centroids\n",
    "\n",
    "    def predict(self, X):\n",
    "        cluster = -np.ones(X.shape[0])\n",
    "        min_dist = np.inf * np.ones(X.shape[0])\n",
    "        for idx,i in enumerate(self.centroids):\n",
    "            for j in range(X.shape[0]):\n",
    "                dist = self.manhattan_distance(X[j], i)\n",
    "                if dist < min_dist[j]:\n",
    "                    min_dist[j] = dist\n",
    "                    cluster[j] = idx\n",
    "        return cluster\n",
    "    \n",
    "    def fit_predict(self, X):\n",
    "        self.fit(X)\n",
    "        return self.predict(X)"
   ]
  },
  {
   "cell_type": "code",
   "execution_count": 24,
   "id": "c4eea012-856d-4d97-8bfc-871b53eb052a",
   "metadata": {},
   "outputs": [
    {
     "name": "stderr",
     "output_type": "stream",
     "text": [
      "100%|██████████| 300/300 [02:28<00:00,  2.02it/s]\n"
     ]
    },
    {
     "name": "stdout",
     "output_type": "stream",
     "text": [
      "[2. 2. 2. 2. 2. 2. 2. 2. 2. 2. 2. 2. 2. 2. 2. 2. 2. 2. 1. 2. 2. 2. 2. 2.\n",
      " 2. 2. 1. 2. 2. 2. 2. 2. 2. 2. 2. 0. 0. 2. 2. 2. 0. 2. 0. 1. 2. 1. 2. 2.\n",
      " 2. 2. 2. 2. 2. 2. 2. 2. 2. 2. 2. 0. 2. 2. 2. 2. 2. 2. 2. 2. 2. 2. 2. 2.\n",
      " 2. 2. 2. 2. 2. 2. 2. 2. 1. 2. 2. 2. 1. 2. 2. 2. 2. 2. 2. 2. 2. 2. 2. 2.\n",
      " 2. 1. 1. 2. 2. 2. 2. 2. 2. 2. 0. 2. 1. 0. 2. 2. 2. 2. 2. 2. 2. 2. 2. 2.\n",
      " 0. 2. 0. 2. 2. 2. 0. 2. 2. 2. 2. 2. 2. 0. 2. 2. 2. 2. 2. 2. 2. 1. 2. 2.\n",
      " 2. 2. 2. 2. 2. 1. 2. 2. 1. 2. 2. 2. 2. 2. 2. 2. 2. 2. 0. 2. 2. 2. 2. 2.\n",
      " 2. 2. 2. 2. 2. 2. 2. 2. 2. 2. 2. 2. 2. 2. 2. 2. 2. 2. 0. 2. 2. 2. 2. 2.\n",
      " 2. 0. 2. 2. 0. 2. 2. 2. 2. 2. 2. 2. 2. 2. 2. 2. 2. 2. 2. 2. 2. 2. 2. 0.\n",
      " 2. 2. 1. 2. 0. 2. 0. 2. 2. 2. 1. 2. 0. 2. 1. 1. 2. 0. 2. 2. 2.]\n"
     ]
    },
    {
     "data": {
      "image/png": "[encoded data removed]",
      "text/plain": [
       "<Figure size 720x720 with 1 Axes>"
      ]
     },
     "metadata": {
      "needs_background": "light"
     },
     "output_type": "display_data"
    }
   ],
   "source": [
    "#KMedians\n",
    "km_df = cox_df.T\n",
    "model = KMedians(n_clusters=3, max_iter=300)\n",
    "\n",
    "pca = PCA(n_components = 2)\n",
    "data = pca.fit_transform(km_df)\n",
    "label2 = model.fit_predict(km_df.to_numpy())\n",
    "#for i in range(len(label2)):\n",
    "print(label2)\n",
    "plt.figure(figsize=(10,10))\n",
    "uniq = np.unique(label2)\n",
    "for i in uniq:\n",
    "   plt.scatter(data[label2 == i , 0] , data[label2 == i , 1] , label = i)"
   ]
  },
  {
   "cell_type": "markdown",
   "id": "be44814e-f9ee-4152-813b-b456cf7095eb",
   "metadata": {},
   "source": [
    "Kada clustering radimo pomocu k-medians, dolazi do neravnoteze u brojevima primjera u klasama."
   ]
  },
  {
   "cell_type": "markdown",
   "id": "2f7e4d27",
   "metadata": {},
   "source": [
    "### 3)\tKlasifikacija pomoću 90 gena\n",
    "Zadnji korak u ovom projektu je treniranje klasifikatora koji na temelju 90 najznačajnijih gena određuje kojem klasteru (C1, C2, ili C3) pripada karcinom."
   ]
  },
  {
   "cell_type": "code",
   "execution_count": 25,
   "id": "c0ea218d",
   "metadata": {},
   "outputs": [
    {
     "name": "stdout",
     "output_type": "stream",
     "text": [
      "[[0.09108604 0.00350212 0.15658436 ... 0.05711841 0.04614343 0.07412568]\n",
      " [0.78022865 0.0603289  0.65943302 ... 0.80398895 0.3878532  0.36648601]\n",
      " [0.45484894 0.14127669 0.23309524 ... 0.14314569 0.06386805 0.13326148]\n",
      " ...\n",
      " [0.09365586 0.10758245 0.10407904 ... 0.06804973 0.10708035 0.09494795]\n",
      " [0.16752509 0.02813461 0.19387906 ... 0.06883996 0.1608145  0.16047271]\n",
      " [0.17864157 0.09294637 0.17892686 ... 0.10443513 0.10287471 0.13651923]]\n",
      "(142, 90)\n"
     ]
    }
   ],
   "source": [
    "#feature selection algoritam\n",
    "from sklearn.model_selection import train_test_split\n",
    "\n",
    "train_df = cox_df.T\n",
    "scaler = MinMaxScaler()\n",
    "\n",
    "X_train, X_test, y_train, y_test = train_test_split(train_df, label, test_size=0.4, random_state=0)\n",
    "scaler.fit(X_train)\n",
    "X_train = scaler.transform(X_train)\n",
    "X_test = scaler.transform(X_test)\n",
    "\n",
    "sel_kbest = SelectKBest(chi2, k=90)\n",
    "select_df = sel_kbest.fit_transform(X_train, y_train)\n",
    "select_df_test = sel_kbest.transform(X_test)\n",
    "print(select_df)\n",
    "print(select_df.shape)"
   ]
  },
  {
   "cell_type": "markdown",
   "id": "9eaa6ef9",
   "metadata": {},
   "source": [
    "U proširenoj verziji istraživanja provedena je usporedba algoritama odabira 90 najznačajnih značajki te prikazani rezultati algoritama. Podjeljen je skup podataka na skup podataka za učenje modela i skup podataka za treniranje modela."
   ]
  },
  {
   "cell_type": "code",
   "execution_count": 26,
   "id": "4772c187",
   "metadata": {},
   "outputs": [
    {
     "name": "stdout",
     "output_type": "stream",
     "text": [
      "(142, 338)\n",
      "(142, 90)\n"
     ]
    }
   ],
   "source": [
    "from sklearn.feature_selection import VarianceThreshold\n",
    "from sklearn.feature_selection import f_classif\n",
    "from sklearn.feature_selection import SelectKBest, chi2\n",
    "\n",
    "var_thr = VarianceThreshold(threshold=(.0263 * (1 - .0263)))\n",
    "select_df2 = var_thr.fit_transform(X_train)\n",
    "select_df2_test = var_thr.transform(X_test)\n",
    "print(select_df2.shape)\n",
    "\n",
    "fvalue_selector = SelectKBest(f_classif, k=90)\n",
    "select_df3 = fvalue_selector.fit_transform(X_train, y_train)\n",
    "select_df3_test = fvalue_selector.transform(X_test)\n",
    "print(select_df3.shape)"
   ]
  },
  {
   "cell_type": "code",
   "execution_count": 27,
   "id": "e2a9d8ab",
   "metadata": {},
   "outputs": [
    {
     "name": "stdout",
     "output_type": "stream",
     "text": [
      "[0 2 0 2 0 0 2 0 2 1 0 0 0 0 1 0 0 2 0 0 0 0 0 0 0 0 0 0 2 0 2 0 0 0 1 0 0\n",
      " 0 0 0 0 2 2 1 1 0 0 0 0 0 0 0 0 0 0 0 0 0 0 0 0 2 0 0 0 0 0 1 0 0 0 0 0 2\n",
      " 1 2 0 0 0 1 0 0 0 2 1 0 1 0 0 0 0 0 2 2 0]\n"
     ]
    }
   ],
   "source": [
    "#klasifikator SVM\n",
    "clf = make_pipeline(StandardScaler(), SVC(gamma='auto'))\n",
    "clf.fit(select_df, y_train)\n",
    "y_pred = clf.predict(select_df_test)\n",
    "print(y_pred)\n",
    "\n",
    "clf.fit(select_df2, y_train)\n",
    "y_pred2 = clf.predict(select_df2_test)\n",
    "clf.fit(select_df3, y_train)\n",
    "y_pred3 = clf.predict(select_df3_test)"
   ]
  },
  {
   "cell_type": "code",
   "execution_count": 28,
   "id": "2f4a64c0",
   "metadata": {},
   "outputs": [
    {
     "name": "stdout",
     "output_type": "stream",
     "text": [
      "              precision    recall  f1-score   support\n",
      "\n",
      "           0       0.67      0.87      0.76        54\n",
      "           1       0.50      0.19      0.27        27\n",
      "           2       0.80      0.86      0.83        14\n",
      "\n",
      "    accuracy                           0.67        95\n",
      "   macro avg       0.66      0.64      0.62        95\n",
      "weighted avg       0.64      0.67      0.63        95\n",
      "\n",
      "[[47  5  2]\n",
      " [21  5  1]\n",
      " [ 2  0 12]]\n",
      "              precision    recall  f1-score   support\n",
      "\n",
      "           0       0.87      0.89      0.88        54\n",
      "           1       0.79      0.70      0.75        27\n",
      "           2       0.81      0.93      0.87        14\n",
      "\n",
      "    accuracy                           0.84        95\n",
      "   macro avg       0.83      0.84      0.83        95\n",
      "weighted avg       0.84      0.84      0.84        95\n",
      "\n",
      "[[48  5  1]\n",
      " [ 6 19  2]\n",
      " [ 1  0 13]]\n",
      "              precision    recall  f1-score   support\n",
      "\n",
      "           0       0.88      0.98      0.93        54\n",
      "           1       1.00      0.85      0.92        27\n",
      "           2       0.92      0.79      0.85        14\n",
      "\n",
      "    accuracy                           0.92        95\n",
      "   macro avg       0.93      0.87      0.90        95\n",
      "weighted avg       0.92      0.92      0.91        95\n",
      "\n",
      "[[53  0  1]\n",
      " [ 4 23  0]\n",
      " [ 3  0 11]]\n"
     ]
    }
   ],
   "source": [
    "#prikaz rezultata\n",
    "print(classification_report(y_test, y_pred))\n",
    "print(confusion_matrix(y_test, y_pred))\n",
    "print(classification_report(y_test, y_pred2))\n",
    "print(confusion_matrix(y_test, y_pred2))\n",
    "print(classification_report(y_test, y_pred3))\n",
    "print(confusion_matrix(y_test, y_pred3))"
   ]
  },
  {
   "cell_type": "markdown",
   "id": "4d12ed79",
   "metadata": {},
   "source": [
    "Precision predstavlja omjer točno pozitivno klasificiranih primjera i zbroja točno pozitivno i lažno pozitivno klasificiranih primjera. Recall je omjer točno pozitivno klasificiranih primjera i zbroja točno pozitivno i lažno negativno klasificiranih primjera. F1-score je kvocijent umnoška precisiona i recalla te zbroja precisiona i recalla, pomnožen s dva. Support je brojnost primjera klasificiranih u pojedinu klasu.\n",
    "<br>\n",
    "Matrica konfuzije predstavlja koliko primjera svake klase je klasificirano u svaku pojedinačnu klasu."
   ]
  },
  {
   "cell_type": "markdown",
   "id": "ab8740f6",
   "metadata": {},
   "source": [
    "Iz prikaza rezultata vidimo da je treći algoritam, algoritam SelectKBest s fvalue selektorom dobio najbolje rezultate pri klasifikaciji zadanih primjera.\n",
    "\n",
    "Pokušat ćemo klasificirati rezultate i pomoću Gradient Boosting klasifikatora kako bismo vidjeli hoćemo li s njim postići bolje rezultate."
   ]
  },
  {
   "cell_type": "code",
   "execution_count": 29,
   "id": "5f041b97",
   "metadata": {},
   "outputs": [
    {
     "name": "stdout",
     "output_type": "stream",
     "text": [
      "              precision    recall  f1-score   support\n",
      "\n",
      "           0       0.75      0.74      0.75        54\n",
      "           1       0.43      0.48      0.46        27\n",
      "           2       0.83      0.71      0.77        14\n",
      "\n",
      "    accuracy                           0.66        95\n",
      "   macro avg       0.67      0.65      0.66        95\n",
      "weighted avg       0.67      0.66      0.67        95\n",
      "\n",
      "[[40 14  0]\n",
      " [12 13  2]\n",
      " [ 1  3 10]]\n",
      "              precision    recall  f1-score   support\n",
      "\n",
      "           0       0.88      0.98      0.93        54\n",
      "           1       0.84      0.96      0.90        27\n",
      "           2       1.00      0.29      0.44        14\n",
      "\n",
      "    accuracy                           0.87        95\n",
      "   macro avg       0.91      0.74      0.76        95\n",
      "weighted avg       0.89      0.87      0.85        95\n",
      "\n",
      "[[53  1  0]\n",
      " [ 1 26  0]\n",
      " [ 6  4  4]]\n",
      "              precision    recall  f1-score   support\n",
      "\n",
      "           0       0.93      0.98      0.95        54\n",
      "           1       0.93      0.96      0.95        27\n",
      "           2       1.00      0.71      0.83        14\n",
      "\n",
      "    accuracy                           0.94        95\n",
      "   macro avg       0.95      0.89      0.91        95\n",
      "weighted avg       0.94      0.94      0.93        95\n",
      "\n",
      "[[53  1  0]\n",
      " [ 1 26  0]\n",
      " [ 3  1 10]]\n"
     ]
    }
   ],
   "source": [
    "# Trees\n",
    "from sklearn.ensemble import GradientBoostingClassifier\n",
    "\n",
    "clf = GradientBoostingClassifier(n_estimators=400, learning_rate=0.1, max_depth=4, random_state=0)\n",
    "clf.fit(select_df, y_train)\n",
    "y_pred = clf.predict(select_df_test)\n",
    "\n",
    "clf.fit(select_df2, y_train)\n",
    "y_pred2 = clf.predict(select_df2_test)\n",
    "\n",
    "clf.fit(select_df3, y_train)\n",
    "y_pred3 = clf.predict(select_df3_test)\n",
    "\n",
    "\n",
    "print(classification_report(y_test, y_pred))\n",
    "print(confusion_matrix(y_test, y_pred))\n",
    "print(classification_report(y_test, y_pred2))\n",
    "print(confusion_matrix(y_test, y_pred2))\n",
    "print(classification_report(y_test, y_pred3))\n",
    "print(confusion_matrix(y_test, y_pred3))"
   ]
  },
  {
   "cell_type": "markdown",
   "id": "a9aa0879",
   "metadata": {},
   "source": [
    "Kao što vidimo iz dobivenih rezultata, najbolja klasifikacija je postignuta sa 90 najznačajnijih gena izabranih metodom VarianceThreshold pomoću Gradient Boosting klasifikatora."
   ]
  },
  {
   "cell_type": "markdown",
   "id": "834d31b1-572c-417c-a710-c87cb1dd7102",
   "metadata": {},
   "source": [
    "### Usporedba k-means i k-medians\n",
    "Usporedivat ćemo performanse SVM klasifikatora za podatke s k-means klasterima i one s k-medians. U oba slučaja 90 gena je odabrano algoritmom SelectKBest s fvalue sektorom. Da bismo mogli usporediti performanse, potreban nam je skup za ispitivanje, stoga ćemo podijeliti skup za učenje na skup za učenje i skup za ispitivanje u omjeru 70:30."
   ]
  },
  {
   "cell_type": "code",
   "execution_count": 30,
   "id": "2a84bec7-9d99-4942-b15f-b6645e976fa2",
   "metadata": {},
   "outputs": [
    {
     "name": "stdout",
     "output_type": "stream",
     "text": [
      "(237, 90)\n",
      "\n",
      "Rezultati za k-means:\n",
      "              precision    recall  f1-score   support\n",
      "\n",
      "           0       1.00      0.97      0.99        34\n",
      "           1       0.94      1.00      0.97        31\n",
      "           2       1.00      0.86      0.92         7\n",
      "\n",
      "    accuracy                           0.97        72\n",
      "   macro avg       0.98      0.94      0.96        72\n",
      "weighted avg       0.97      0.97      0.97        72\n",
      "\n",
      "[[33  1  0]\n",
      " [ 0 31  0]\n",
      " [ 0  1  6]]\n",
      "\n",
      "Rezultati za k-medians:\n",
      "              precision    recall  f1-score   support\n",
      "\n",
      "         0.0       0.83      0.71      0.77         7\n",
      "         1.0       1.00      0.50      0.67         4\n",
      "         2.0       0.95      1.00      0.98        61\n",
      "\n",
      "    accuracy                           0.94        72\n",
      "   macro avg       0.93      0.74      0.80        72\n",
      "weighted avg       0.94      0.94      0.94        72\n",
      "\n",
      "[[ 5  0  2]\n",
      " [ 1  2  1]\n",
      " [ 0  0 61]]\n"
     ]
    }
   ],
   "source": [
    "from sklearn.model_selection import train_test_split\n",
    "\n",
    "fvalue_selector = SelectKBest(f_classif, k=90)\n",
    "select_df = fvalue_selector.fit_transform(train_df, label)\n",
    "print(select_df.shape)\n",
    "\n",
    "#K-means\n",
    "select_df_tr, select_df_te, label_tr, label_te = train_test_split(select_df, label, test_size=0.3)\n",
    "clf.fit(select_df_tr, label_tr)\n",
    "y_pred1 = clf.predict(select_df_te)\n",
    "\n",
    "print(\"\\nRezultati za k-means:\")\n",
    "print(classification_report(label_te, y_pred1))\n",
    "print(confusion_matrix(label_te, y_pred1))\n",
    "\n",
    "#K-medians\n",
    "select_df_tr, select_df_te, label2_tr, label2_te = train_test_split(select_df, label2, test_size=0.3)\n",
    "clf.fit(select_df_tr, label2_tr)\n",
    "y_pred2 = clf.predict(select_df_te)\n",
    "\n",
    "print(\"\\nRezultati za k-medians:\")\n",
    "print(classification_report(label2_te, y_pred2))\n",
    "print(confusion_matrix(label2_te, y_pred2))"
   ]
  },
  {
   "cell_type": "markdown",
   "id": "384940f5-ee17-4177-8153-587df6ac84f5",
   "metadata": {},
   "source": [
    "Vidimo da s k-medians imamo vecu tocnost.\n",
    "\n",
    "## Klasifikacija pomocu KNN (K Nearest Neighbours)\n",
    "\n",
    "Usporedit ćemo performanse KNN i SVM klasifikatora nad podacima nad kojima smo proveli k-means, te 90 gena je odabrano uz pomoć SelectKBest s fvalue sektorom. KNN treniramo sa k=5."
   ]
  },
  {
   "cell_type": "code",
   "execution_count": 31,
   "id": "7243edf5-1c2b-4ddf-aefb-380cab14536e",
   "metadata": {},
   "outputs": [
    {
     "name": "stdout",
     "output_type": "stream",
     "text": [
      "\n",
      "KNN:\n",
      "\n",
      "              precision    recall  f1-score   support\n",
      "\n",
      "           0       0.90      0.96      0.93       128\n",
      "           1       0.92      0.88      0.90        83\n",
      "           2       1.00      0.85      0.92        26\n",
      "\n",
      "    accuracy                           0.92       237\n",
      "   macro avg       0.94      0.90      0.92       237\n",
      "weighted avg       0.92      0.92      0.92       237\n",
      "\n",
      "[[123   5   0]\n",
      " [ 10  73   0]\n",
      " [  3   1  22]]\n",
      "\n",
      "SVC:\n",
      "\n",
      "              precision    recall  f1-score   support\n",
      "\n",
      "           0       1.00      1.00      1.00       128\n",
      "           1       1.00      1.00      1.00        83\n",
      "           2       1.00      1.00      1.00        26\n",
      "\n",
      "    accuracy                           1.00       237\n",
      "   macro avg       1.00      1.00      1.00       237\n",
      "weighted avg       1.00      1.00      1.00       237\n",
      "\n",
      "[[128   0   0]\n",
      " [  0  83   0]\n",
      " [  0   0  26]]\n"
     ]
    }
   ],
   "source": [
    "from sklearn.neighbors import KNeighborsClassifier\n",
    "\n",
    "clf2 = make_pipeline(StandardScaler(), KNeighborsClassifier())\n",
    "clf2.fit(select_df, label)\n",
    "\n",
    "y_pred = clf2.predict(select_df)\n",
    "\n",
    "print(\"\\nKNN:\\n\")\n",
    "print(classification_report(label, y_pred))\n",
    "print(confusion_matrix(label, y_pred))\n",
    "\n",
    "clf.fit(select_df, label)\n",
    "y_pred = clf.predict(select_df)\n",
    "\n",
    "print(\"\\nSVC:\\n\")\n",
    "print(classification_report(label, y_pred))\n",
    "print(confusion_matrix(label, y_pred))"
   ]
  },
  {
   "cell_type": "markdown",
   "id": "6cb9b6a1-2b90-4981-976c-912392fbb894",
   "metadata": {},
   "source": [
    "Ovakvi su rezultati samo na skupu za učenje, no da bismo ih kvalitetno usporedili, moramo imati i testni skup. Podijelit ćemo trening skup, veličina testnog skupa će biti 30%."
   ]
  },
  {
   "cell_type": "code",
   "execution_count": 32,
   "id": "c51aa135-8667-4126-9fe5-174c156e0ccd",
   "metadata": {},
   "outputs": [
    {
     "name": "stdout",
     "output_type": "stream",
     "text": [
      "\n",
      "KNN:\n",
      "\n",
      "              precision    recall  f1-score   support\n",
      "\n",
      "           0       0.77      0.94      0.85        35\n",
      "           1       0.91      0.71      0.80        28\n",
      "           2       1.00      0.78      0.88         9\n",
      "\n",
      "    accuracy                           0.83        72\n",
      "   macro avg       0.89      0.81      0.84        72\n",
      "weighted avg       0.85      0.83      0.83        72\n",
      "\n",
      "[[33  2  0]\n",
      " [ 8 20  0]\n",
      " [ 2  0  7]]\n",
      "\n",
      "SVC:\n",
      "\n",
      "              precision    recall  f1-score   support\n",
      "\n",
      "           0       0.94      0.91      0.93        35\n",
      "           1       0.90      0.96      0.93        28\n",
      "           2       0.88      0.78      0.82         9\n",
      "\n",
      "    accuracy                           0.92        72\n",
      "   macro avg       0.91      0.89      0.89        72\n",
      "weighted avg       0.92      0.92      0.92        72\n",
      "\n",
      "[[32  3  0]\n",
      " [ 0 27  1]\n",
      " [ 2  0  7]]\n"
     ]
    }
   ],
   "source": [
    "select_df_tr, select_df_te, label_tr, label_te = train_test_split(select_df, label, test_size=0.3)\n",
    "\n",
    "clf2.fit(select_df_tr, label_tr)\n",
    "\n",
    "y_pred = clf2.predict(select_df_te)\n",
    "\n",
    "print(\"\\nKNN:\\n\")\n",
    "print(classification_report(label_te, y_pred))\n",
    "print(confusion_matrix(label_te, y_pred))\n",
    "\n",
    "clf.fit(select_df_tr, label_tr)\n",
    "y_pred = clf.predict(select_df_te)\n",
    "\n",
    "print(\"\\nSVC:\\n\")\n",
    "print(classification_report(label_te, y_pred))\n",
    "print(confusion_matrix(label_te, y_pred))"
   ]
  },
  {
   "cell_type": "markdown",
   "id": "fe6a0dd4-8423-4e55-bd11-54e2b92025e0",
   "metadata": {},
   "source": [
    "Veću točnost ostvaruje SVC, sto je sukladno očekivanjima. KNN se ne nosi dobro s velikom dimenzionalnosti podataka; u slučaju da su podaci velikih dimenzija potrebno je imati puno primjera, što ovdje nije slučaj."
   ]
  },
  {
   "cell_type": "code",
   "execution_count": null,
   "id": "31b818c9-7fbd-4270-86fd-75c81e99f60c",
   "metadata": {},
   "outputs": [],
   "source": []
  }
 ],
 "metadata": {
  "kernelspec": {
   "display_name": "Python 3",
   "language": "python",
   "name": "python3"
  },
  "language_info": {
   "codemirror_mode": {
    "name": "ipython",
    "version": 3
   },
   "file_extension": ".py",
   "mimetype": "text/x-python",
   "name": "python",
   "nbconvert_exporter": "python",
   "pygments_lexer": "ipython3",
   "version": "3.8.8"
  }
 },
 "nbformat": 4,
 "nbformat_minor": 5
}
